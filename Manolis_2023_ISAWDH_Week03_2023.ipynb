{
  "nbformat": 4,
  "nbformat_minor": 0,
  "metadata": {
    "colab": {
      "private_outputs": true,
      "provenance": [],
      "include_colab_link": true
    },
    "kernelspec": {
      "name": "python3",
      "display_name": "Python 3"
    }
  },
  "cells": [
    {
      "cell_type": "markdown",
      "metadata": {
        "id": "view-in-github",
        "colab_type": "text"
      },
      "source": [
        "<a href=\"https://colab.research.google.com/github/Riddlevox/seminar-2023-xml/blob/main/Manolis_2023_ISAWDH_Week03_2023.ipynb\" target=\"_parent\"><img src=\"https://colab.research.google.com/assets/colab-badge.svg\" alt=\"Open In Colab\"/></a>"
      ]
    },
    {
      "cell_type": "markdown",
      "metadata": {
        "id": "TQ2z3vwMnFH_"
      },
      "source": [
        "This is Tacitus' description of the riot in the amphitheater at Pompeii. The following code formats it and pulls all the palcenames\n",
        "\n",
        "\n",
        "\"1. Write programs for people, not computers.\" (Wilson et al., Box 1)"
      ]
    },
    {
      "cell_type": "markdown",
      "metadata": {
        "id": "o9a2mOl7UCFf"
      },
      "source": [
        "# BASIC \"PROGRAMMING\" CONCEPTS"
      ]
    },
    {
      "cell_type": "code",
      "metadata": {
        "id": "g-xlmVTLUKLJ"
      },
      "source": [
        "# Expressions such as 1+1 . Also, what is a \"cell\" in an iPython/Jupyter notebook?\n",
        "(1+1)*5"
      ],
      "execution_count": null,
      "outputs": []
    },
    {
      "cell_type": "code",
      "metadata": {
        "id": "UGigk1VGUcbg"
      },
      "source": [
        "# Variables and Variable Assignment. Variables persist across cells in a notebook.\n",
        "# When is there output, when not?\n",
        "# You have a fair amount of flexibility in variable names.\n",
        "\n",
        "cheese = 4\n",
        "\n",
        "\n",
        "#cheese\n",
        "#print (2)\n",
        "\n",
        "#print(cheese)\n",
        "half_cheese = cheese / 2\n",
        "#print(half_cheese)\n",
        "\n",
        "#print(cheese + half_cheese)\n",
        "\n",
        "# print = 2 # this is bad because 'print' is a keyword\n",
        "\n"
      ],
      "execution_count": null,
      "outputs": []
    },
    {
      "cell_type": "code",
      "metadata": {
        "id": "jsu_U1SvUwPa"
      },
      "source": [
        "# Simple Data Types. String, integers, other numeric types. type() function\n",
        "\n",
        "int(\"1\") + int(\"20\") + 1"
      ],
      "execution_count": null,
      "outputs": []
    },
    {
      "cell_type": "code",
      "metadata": {
        "id": "AXzV3YxNm_1K"
      },
      "source": [
        "# 'add' string (concatenate)\n",
        "\"IMP\" + \" \" + \"DIV\""
      ],
      "execution_count": null,
      "outputs": []
    },
    {
      "cell_type": "code",
      "metadata": {
        "id": "BEOxp_xHURh_"
      },
      "source": [
        "# built-in functions, 1\n",
        "other_variable = \"Big\"\n",
        "length_of_name = len(other_variable + \" \" + \"Cheese\")\n",
        "print(length_of_name)"
      ],
      "execution_count": null,
      "outputs": []
    },
    {
      "cell_type": "code",
      "metadata": {
        "id": "eqsYXV7yXPlY"
      },
      "source": [
        "# other built-in functions, 2. Dot notation\n",
        "tmp_var = \"augusta\"\n",
        "\n",
        "new_tmp_var = tmp_var.replace(\"a\",\"A\",1)\n"
      ],
      "execution_count": null,
      "outputs": []
    },
    {
      "cell_type": "code",
      "metadata": {
        "id": "UUM_9nBRlHdv"
      },
      "source": [
        "# tmp_var hasn't changed!\n",
        "print(\"Old: \" + tmp_var)\n",
        "print(\"New: \" + new_tmp_var)"
      ],
      "execution_count": null,
      "outputs": []
    },
    {
      "cell_type": "code",
      "metadata": {
        "id": "m04yWJsHgmwb"
      },
      "source": [
        "# Is this jumping ahead too quickly?\n",
        "\n",
        "wiki_page_id = \"Augustus\"\n",
        "print(\"http://en.wikipedia.org/wiki/REPLACEME\".replace(\"REPLACEME\",wiki_page_id))"
      ],
      "execution_count": null,
      "outputs": []
    },
    {
      "cell_type": "code",
      "metadata": {
        "id": "3XKoI2Rxf2n4"
      },
      "source": [
        "# conditional statements (plus a bit of what python expects from you in terms of indenting lines)\n",
        "\n",
        "if len(\"Augustus\") < 10:\n",
        "  print(\"This is a short name\")\n",
        "else:\n",
        "  print(\"This is a long name.\")\n",
        "\n",
        "print(\"See above for answer.\")"
      ],
      "execution_count": null,
      "outputs": []
    },
    {
      "cell_type": "code",
      "source": [
        "len(\"Augustus\") < 10"
      ],
      "metadata": {
        "id": "TJ3c0jnEFnpI"
      },
      "execution_count": null,
      "outputs": []
    },
    {
      "cell_type": "code",
      "metadata": {
        "id": "gAfksnrUApZQ"
      },
      "source": [
        "# quotes\n",
        "print ('\"'+'caesar said \"hello\".'+'\"')"
      ],
      "execution_count": null,
      "outputs": []
    },
    {
      "cell_type": "code",
      "metadata": {
        "id": "RvBR92cCjlJN"
      },
      "source": [
        "# lists and loops\n",
        "['Augustus', 'Tiberius', 'Caligula', 'Claudius', 'Nero']"
      ],
      "execution_count": null,
      "outputs": []
    },
    {
      "cell_type": "code",
      "metadata": {
        "id": "s5z4uNn2GkER"
      },
      "source": [
        "emperors = ['Augustus', 'Tiberius', 'Caligula', 'Claudius', 'Nero', 'Galba']\n",
        "\n"
      ],
      "execution_count": null,
      "outputs": []
    },
    {
      "cell_type": "code",
      "metadata": {
        "id": "EMEMo-j8GsWO"
      },
      "source": [
        "print(len (emperors[0]))\n",
        "\n",
        "print(emperors[2])\n",
        "\n"
      ],
      "execution_count": null,
      "outputs": []
    },
    {
      "cell_type": "code",
      "metadata": {
        "id": "TtpqefPGG-J0"
      },
      "source": [
        "print(\"Starting the loop...\")\n",
        "\n",
        "for e in emperors:\n",
        "  print(\"I'm in the loop:\" + \" \" + str(e))\n",
        "\n",
        "\n",
        "print(\"last value is: \" + str(e))"
      ],
      "execution_count": null,
      "outputs": []
    },
    {
      "cell_type": "markdown",
      "metadata": {
        "id": "ghikZIbgHJfK"
      },
      "source": [
        "# Adding Capabilities to Python\n",
        "\n",
        "We'll first add the ability to read XML (and HTML) documents."
      ]
    },
    {
      "cell_type": "code",
      "metadata": {
        "id": "A8_t4mIG728g"
      },
      "source": [
        "# https://www.crummy.com/software/BeautifulSoup/bs4/doc/\n",
        "from bs4 import BeautifulSoup"
      ],
      "execution_count": null,
      "outputs": []
    },
    {
      "cell_type": "markdown",
      "metadata": {
        "id": "Q-IoxKFuI7Pq"
      },
      "source": [
        "## Sample/Your XML Document"
      ]
    },
    {
      "cell_type": "code",
      "metadata": {
        "id": "MpLgks1d8E2A"
      },
      "source": [
        "# Thanks to a previous student\n",
        "\n",
        "tei_xml = \"\"\"\n",
        "<?xml version=\"1.0\" encoding=\"UTF-8\"?>\n",
        "<?xml-model href=\"http://www.stoa.org/epidoc/schema/latest/tei-epidoc.rng\" schematypens=\"http://relaxng.org/ns/structure/1.0\"?>\n",
        "<?xml-model href=\"http://www.stoa.org/epidoc/schema/latest/tei-epidoc.rng\" schematypens=\"http://purl.oclc.org/dsdl/schematron\"?>\n",
        "<TEI xmlns=\"http://www.tei-c.org/ns/1.0\" xml:space=\"preserve\" xml:lang=\"en\">\n",
        "    <teiHeader>\n",
        "        <fileDesc>\n",
        "            <titleStmt>\n",
        "                <title>Stele Inscription of Wŏnjong Ch'anyu</title>\n",
        "            </titleStmt>\n",
        "            <publicationStmt>\n",
        "                <publisher>Jogye Order of Korean Buddhism</publisher>\n",
        "                <pubPlace>Paju, Republic of Korea</pubPlace>\n",
        "                <date when=\"2012\"/>\n",
        "            </publicationStmt>\n",
        "            <sourceDesc>\n",
        "                <msDesc>\n",
        "                    <msIdentifier>\n",
        "                        <repository>National Museum of Korea</repository>\n",
        "                        <idno>Treasure no. 6</idno>\n",
        "                    </msIdentifier>\n",
        "                    <physDesc>\n",
        "                        <objectDesc>\n",
        "                            <supportDesc>\n",
        "                                <support><material/>Stone stele with inscription in regular script\n",
        "                                    and <objectType/>stele <dimensions/>height 2.79 m, width 1.60 m, depth 33 cm</support>\n",
        "                            </supportDesc>\n",
        "                            <layoutDesc>\n",
        "                                <layout>top to bottom, left to right, heading on capital</layout>\n",
        "                            </layoutDesc>\n",
        "                        </objectDesc>\n",
        "                        <handDesc>\n",
        "                            <handNote>standard script<height>height of characters 2.1 cm</height>\n",
        "                            </handNote>\n",
        "                        </handDesc>\n",
        "                    </physDesc>\n",
        "                    <history>\n",
        "                        <origin>\n",
        "                            <origPlace>South Korea</origPlace>\n",
        "                            <origDate>975 (26th year of Kwangjong of Koryŏ)</origDate>\n",
        "                        </origin>\n",
        "                        <provenance type=\"found\">Kodal Monastery, Sanggyo-ri, Pungnae-myŏn, Yŏju-gun, Kyŏnggi Province, South Korea and circumstances/context\n",
        "                        </provenance>\n",
        "                        <provenance type=\"observed\">National Museum of Korea\n",
        "                        </provenance>\n",
        "                    </history>\n",
        "                </msDesc>\n",
        "            </sourceDesc>\n",
        "        </fileDesc>\n",
        "    </teiHeader>\n",
        "    <facsimile>\n",
        "        <graphic url=\"http://lizlee.hosting.nyu.edu/ELeeHW.html\"/>\n",
        "    </facsimile>\n",
        "    <text>\n",
        "        <body>\n",
        "            <div type=\"edition\" xml:space=\"preserve\">\n",
        "                <ab>\n",
        "                    <lb n=\"1\"/>excerpt\n",
        "                    <lb n=\"2\"/><persName>太祖</persName>, 方當際會, 欲表因緣, 送霞衲衣幷座具. 未幾, <persName>太祖</persName><expan><abbr>天崩</abbr>><ex>地坼</ex></expan>杞國, 日入虞泉.\n",
        "                    <lb/>念<expan><abbr>善始</abbr><ex>善終</ex></expan>之芳因, 引終之玄路, <persName>惠宗</persName><rs type=\"official\" key=\"great king\">大王</rs>, 踐阼思恭, 奉先追孝, 興仁化俗, 重佛尊僧,\n",
        "                    <lb/>贄以茗馞幷紋羅法衣. <rs type=\"official\" key=\"master\">大師</rs>啓以佛心, 陳之神力.\n",
        "                </ab>\n",
        "                </div>\n",
        "            <div type=\"translation\">\n",
        "                <p>Upon actually having met [the master], <persName>T’aejo</persName> desired to [publicly]\n",
        "                    express his karmic affinity with him and sent him a red monastic robe and\n",
        "a sitting cushion as a present. [But] before long, T’aejo passed away. It was\n",
        "as if the sky collapsed in the state of Qi, and as if the sun went down in\n",
        "the abyss of Yu. The master, being mindful of the wholesome beginning [of\n",
        "his interaction with the king], performed the rite of leading the king’s soul\n",
        "to his final destination by leading him through the dark road to the Pure\n",
        "Land. [Thereupon] the Great King Hyejong ascended the throne and,\n",
        "with reverent thoughts, venerated his ancestor the late king, cherishing his\n",
        "memory with filial piety. He promoted humaneness and improved customs,\n",
        "worshipped the Buddha and respected the monks, by presenting them\n",
        "with tea and incense, as well as Dharma-robes made of patterned silk. The\n",
        "Great Master enlightened the people by means of the Buddha mind, and he\n",
        "displayed his supernormal powers.</p>\n",
        "            </div>\n",
        "            <div type=\"commentary\">\n",
        "                <p>commentary</p>\n",
        "            </div>\n",
        "            <div type=\"bibliography\">\n",
        "                <p>bibliography of previous editions, discussion, etc.</p>\n",
        "            </div>\n",
        "        </body>\n",
        "    </text>\n",
        "</TEI>\n",
        "\"\"\""
      ],
      "execution_count": null,
      "outputs": []
    },
    {
      "cell_type": "markdown",
      "metadata": {
        "id": "3vgx_dfqJBDM"
      },
      "source": [
        "## Using Beatiful Soup"
      ]
    },
    {
      "cell_type": "code",
      "metadata": {
        "id": "DKivqKBq8yer"
      },
      "source": [
        "# create a variable that is a actionable version of the xml\n",
        "soup = BeautifulSoup(tei_xml, 'xml')\n",
        "# type(soup)"
      ],
      "execution_count": null,
      "outputs": []
    },
    {
      "cell_type": "code",
      "metadata": {
        "id": "vXrTOyjJX3iM"
      },
      "source": [
        "# selecting elements. display the origin'\n",
        "#\n",
        "print(soup.facsimile.graphic['url']) # only gets the first.\n",
        "# add .text"
      ],
      "execution_count": null,
      "outputs": []
    },
    {
      "cell_type": "code",
      "metadata": {
        "id": "S0GqSRJTO3dh"
      },
      "source": [
        "# before you execture the cell, figure out what it will print\n",
        "'<i>'+soup.origin.origPlace.text+'</i>'"
      ],
      "execution_count": null,
      "outputs": []
    },
    {
      "cell_type": "code",
      "metadata": {
        "id": "vnLaqPvUa2gv"
      },
      "source": [
        "# https://ipython.org/ipython-doc/rel-0.13.2/api/generated/IPython.core.display.html\n",
        "from IPython.core.display import HTML\n",
        "HTML('<i>'+soup.origPlace.text+'</i>')\n",
        "\n"
      ],
      "execution_count": null,
      "outputs": []
    },
    {
      "cell_type": "code",
      "metadata": {
        "id": "OZ_3hkvhPn63"
      },
      "source": [
        "#Simple task:  the above, but bold\n",
        "HTML('<b>'+soup.origPlace.text+'</b>')"
      ],
      "execution_count": null,
      "outputs": []
    },
    {
      "cell_type": "code",
      "metadata": {
        "id": "KVWjD6nhX6FW"
      },
      "source": [
        "# find an element by attribute value\n",
        "# useful because you don't have to remember the whole hiearchy of elements\n",
        "\n",
        "print(soup.find('div', type=\"translation\").text)"
      ],
      "execution_count": null,
      "outputs": []
    },
    {
      "cell_type": "code",
      "metadata": {
        "id": "tffXgL-KiYjW"
      },
      "source": [
        "# TASK: capture the origin, edition, and translation in variables.\n",
        "# wrap them in html elements  to distinguish the parts of the document (as in p and i, and b)\n",
        "# use the HTML function to display\n",
        "origin = soup.origPlace.text\n",
        "\n",
        "edition = soup.find('div', type=\"edition\").text\n",
        "\n",
        "translation = soup.find('div', type=\"translation\").text\n",
        "\n",
        "\n",
        "\n"
      ],
      "execution_count": null,
      "outputs": []
    },
    {
      "cell_type": "code",
      "metadata": {
        "id": "NTfbjy5tTTWh"
      },
      "source": [
        "# use this cell for the HTML output\n",
        "HTML('<b>'+origin+'</b>'+'<p>'+translation+'</p><i>'+edition+'</i></p>')"
      ],
      "execution_count": null,
      "outputs": []
    },
    {
      "cell_type": "code",
      "metadata": {
        "id": "SShyNx0kcVP8"
      },
      "source": [
        "# find all\n",
        "\n",
        "\n",
        "pers_names = soup.find_all('persName')\n",
        "pers_names\n",
        "\n",
        "# type(pers_names)"
      ],
      "execution_count": null,
      "outputs": []
    },
    {
      "cell_type": "code",
      "metadata": {
        "id": "I_27ktmjYW6r"
      },
      "source": [
        "# TASK PART 1: print out all the persNames one by one? (which contruct from above?)\n",
        "# TASK PART 2: add some html (we'll do this together)\n",
        "\n",
        "for p in pers_names:\n"
      ],
      "execution_count": null,
      "outputs": []
    },
    {
      "cell_type": "code",
      "metadata": {
        "id": "ym47T_97klLs"
      },
      "source": [
        "# variant: find all provenances and print type attributes\n",
        "provs = soup.find_all('provenance')\n",
        "\n",
        "for el in provs:\n",
        "  print(el.attrs['type'] + ': ' + el.text)"
      ],
      "execution_count": null,
      "outputs": []
    },
    {
      "cell_type": "markdown",
      "metadata": {
        "id": "OP_NLthNhanG"
      },
      "source": [
        "## Make lists of words"
      ]
    },
    {
      "cell_type": "code",
      "metadata": {
        "id": "TnE7tLAFO-OZ"
      },
      "source": [
        "word_list = soup.TEI.find('div',type = 'translation').text.split()\n",
        "word_list"
      ],
      "execution_count": null,
      "outputs": []
    },
    {
      "cell_type": "code",
      "metadata": {
        "id": "4BXj93LIrsMB"
      },
      "source": [
        "# .text.replace('[','').replace(']','')"
      ],
      "execution_count": null,
      "outputs": []
    },
    {
      "cell_type": "code",
      "metadata": {
        "id": "YV0SumJnecKC"
      },
      "source": [
        "# word_list"
      ],
      "execution_count": null,
      "outputs": []
    },
    {
      "cell_type": "code",
      "metadata": {
        "id": "qg2mmMmYYuJo"
      },
      "source": [
        "word_list.sort(key=len, reverse = True)\n",
        "word_list\n",
        "\n"
      ],
      "execution_count": null,
      "outputs": []
    },
    {
      "cell_type": "code",
      "metadata": {
        "id": "IrX_K70_fH45"
      },
      "source": [
        "# quick way to make word list unique\n",
        "set(word_list)\n"
      ],
      "execution_count": null,
      "outputs": []
    },
    {
      "cell_type": "code",
      "metadata": {
        "id": "_0RZINHRWdQr"
      },
      "source": [
        "min(word_list, key=len)"
      ],
      "execution_count": null,
      "outputs": []
    },
    {
      "cell_type": "code",
      "metadata": {
        "id": "SFg3gu1VXQcN"
      },
      "source": [
        "max(word_list, key=len)"
      ],
      "execution_count": null,
      "outputs": []
    },
    {
      "cell_type": "code",
      "metadata": {
        "id": "iIs5LHQHKUvD"
      },
      "source": [
        "from wordcloud import WordCloud\n",
        "\n",
        "%matplotlib inline"
      ],
      "execution_count": null,
      "outputs": []
    },
    {
      "cell_type": "code",
      "source": [
        "\", \".join(word_list)"
      ],
      "metadata": {
        "id": "wdJhmJ3AhOry"
      },
      "execution_count": null,
      "outputs": []
    },
    {
      "cell_type": "code",
      "metadata": {
        "id": "7x3g_yT5Kli_"
      },
      "source": [
        "wordcloud = WordCloud().generate(\" \".join(word_list))\n",
        "\n",
        "# Display the generated image:\n",
        "# the matplotlib way:\n",
        "import matplotlib.pyplot as plt\n",
        "plt.imshow(wordcloud, interpolation='bilinear')\n",
        "plt.axis(\"off\")"
      ],
      "execution_count": null,
      "outputs": []
    },
    {
      "cell_type": "markdown",
      "metadata": {
        "id": "D-7o_J9ONyJK"
      },
      "source": [
        "## Find elements with the @type attribute\n",
        "https://www.stoa.org/epidoc/gl/latest/supp-histfound.html"
      ]
    },
    {
      "cell_type": "code",
      "metadata": {
        "id": "_170UL3-Nwya",
        "collapsed": true
      },
      "source": [
        "soup.find_all(type = True)"
      ],
      "execution_count": null,
      "outputs": []
    },
    {
      "cell_type": "markdown",
      "metadata": {
        "id": "cV1VSMCMbWk9"
      },
      "source": [
        "# If your TEI is long. Move it to the end.\n",
        "\n",
        "Evaluate the cell so the xml is in a variable for use up above."
      ]
    },
    {
      "cell_type": "code",
      "metadata": {
        "id": "LpmXnc4QscF3"
      },
      "source": [
        "# Your xml here??"
      ],
      "execution_count": null,
      "outputs": []
    }
  ]
}